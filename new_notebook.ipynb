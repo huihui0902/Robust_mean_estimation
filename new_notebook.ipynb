{
 "cells": [
  {
   "cell_type": "code",
   "execution_count": null,
   "metadata": {},
   "outputs": [],
   "source": [
    "import numpy as np\n",
    "import scipy\n",
    "import robust_mean_estimate as rl\n",
    "import importlib as il\n",
    "from scipy import special\n",
    "from numpy import linalg as LA\n",
    "import matplotlib.pyplot as plt\n",
    "%matplotlib inline\n",
    "import mpld3\n",
    "mpld3.enable_notebook()\n",
    "\n",
    "fsize = 20\n",
    "fpad = 10\n",
    "figsize = (8,4)\n",
    "fontname = 'serif'"
   ]
  },
  {
   "cell_type": "code",
   "execution_count": null,
   "metadata": {},
   "outputs": [],
   "source": [
    "\"loss, time vs dimention -- lognormal -- dense biased -- set data\"\n",
    "\n",
    "il.reload(rl)\n",
    "\n",
    "trials = 10\n",
    "\n",
    "m, k, eps = 100, 4, 0.05\n",
    "xs = list(np.arange(100, 400, 100))\n",
    "\n",
    "keys = [rl.Oracle, rl.RME_sp, rl.Top_K, rl.Topk_GD, rl.GDAlgs]\n",
    "\n",
    "model = rl.LognormalModel()\n",
    "noise_model = rl.DenseNoise(-2)\n",
    "model_params = rl.Params(m = m, k = k, eps = eps)\n",
    "\n",
    "inputfilename = 'data/loss-time-vs-dimention-lognormal.pkl'\n",
    "plot_d = rl.load_data(model = model, noise_model = noise_model, params = model_params, loss = rl.err, keys = keys)\n",
    "plot_d.setdata_tofile(filename = inputfilename, xvar_name = 'd', trials = trials, xs = xs)"
   ]
  },
  {
   "cell_type": "code",
   "execution_count": null,
   "metadata": {},
   "outputs": [],
   "source": [
    "\"loss vs dimention -- lognormal -- dense biased -- plot\"\n",
    "\n",
    "il.reload(rl)\n",
    "\n",
    "trials = 10\n",
    "\n",
    "m, k, eps = 100, 4, 0.05\n",
    "xs = list(np.arange(100, 400, 50))\n",
    "\n",
    "keys = [rl.Oracle, rl.RME_sp, rl.Top_K, rl.Topk_GD, rl.GDAlgs]\n",
    "\n",
    "model = rl.LognormalModel()\n",
    "noise_model = rl.DenseNoise(-2)\n",
    "model_params = rl.Params(m = m, k = k, eps = eps)\n",
    "\n",
    "outputfilename = 'figs/loss-vs-dimention-lognormal.pdf'\n",
    "\n",
    "title = 'm = {m}, k = {k}, eps = {eps}. Model is Lognormal. Noise is constant -2 biased.'.format(d = d, k = k, eps = eps)\n",
    "xlabel = 'd'\n",
    "ylabel = 'L2 Loss'\n",
    "\n",
    "plot_d_loss = rl.plot_data(model = model, noise_model = noise_model, loss = rl.err, keys = keys)\n",
    "\n",
    "plot_d_loss.plotxy_fromfile(outfilename = outputfilename, filename = inputfilename, title, xlabel = xlabel, ylabel = ylabel, figsize = figsize, fsize = fsize, fpad = fpad, xs = xs, fontname = fontname)"
   ]
  },
  {
   "cell_type": "code",
   "execution_count": null,
   "metadata": {},
   "outputs": [],
   "source": [
    "\"time vs dimention -- lognormal -- dense biased -- plot\"\n",
    "\n",
    "il.reload(rl)\n",
    "\n",
    "trials = 10\n",
    "\n",
    "m, k, eps = 100, 4, 0.05\n",
    "xs = list(np.arange(100, 400, 50))\n",
    "\n",
    "keys = [rl.Oracle, rl.RME_sp, rl.Top_K, rl.Topk_GD, rl.GDAlgs]\n",
    "\n",
    "model = rl.LognormalModel()\n",
    "noise_model = rl.DenseNoise(-2)\n",
    "model_params = rl.Params(m = m, k = k, eps = eps)\n",
    "\n",
    "outputfilename = 'figs/time-vs-dimention-lognormal.pdf'\n",
    "\n",
    "title = 'm = {m}, k = {k}, eps = {eps}. Model is Lognormal. Noise is constant -2 biased.'.format(d = d, k = k, eps = eps)\n",
    "xlabel = 'd'\n",
    "ylabel = 'Time'\n",
    "\n",
    "plot_d_time = rl.plot_data(model = model, noise_model = noise_model, loss = rl.err, keys = keys)\n",
    "\n",
    "plot_d_time.plotxy_fromfile_time(outfilename = outputfilename, filename = inputfilename, title = title, xlabel = xlabel, ylabel = ylabel, figsize = figsize, fsize = fsize, fpad = fpad, xs = xs, fontname = fontname)"
   ]
  }
 ],
 "metadata": {
  "kernelspec": {
   "display_name": "Python 3.10.10 64-bit",
   "language": "python",
   "name": "python3"
  },
  "language_info": {
   "codemirror_mode": {
    "name": "ipython",
    "version": 3
   },
   "file_extension": ".py",
   "mimetype": "text/x-python",
   "name": "python",
   "nbconvert_exporter": "python",
   "pygments_lexer": "ipython3",
   "version": "3.10.10"
  },
  "orig_nbformat": 4,
  "vscode": {
   "interpreter": {
    "hash": "bd385fe162c5ca0c84973b7dd5c518456272446b2b64e67c2a69f949ca7a1754"
   }
  }
 },
 "nbformat": 4,
 "nbformat_minor": 2
}
